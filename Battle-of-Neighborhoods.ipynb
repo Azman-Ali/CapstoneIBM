{
 "cells": [
  {
   "cell_type": "markdown",
   "metadata": {},
   "source": [
    "# Battle of The Neighborhoods\n",
    "\n",
    "\n",
    "## Abstract"
   ]
  },
  {
   "cell_type": "markdown",
   "metadata": {},
   "source": [
    "> The notion of Smart City has evolved from being technology centric to more citizen centric. That means, our perception on the places has changed and evolved from the traditional notion of smart infrastructure to the like of ‘Livable City” ,”Happy City” or “Green City” instead. While City infrastructure will always be one of the indicator for city posture, in the end, Citizen requirement has to be significantly measured.  This reports aims to provide a framework for measuring and comparing scores between neighborhoods for to assist stakeholders in making strategic decision or action.One could not improve on what one could not measure. To date, city governors are adopting different metric for measuring city performance.\n",
    ">This report will be based on features that in our opinion representing some basic parameters to measure score of city performance. These features are discussed in greater detail in the Data section.\n",
    ">Who will benefit\n",
    ">* City managers, governors or stakeholder may adopt the approach build a more sustainable city dashboard for their own users or publish public. \n",
    ">* At citizen level, the public or tax payers are expecting more transparent government and information that involve public interest\n",
    ">* Business Users can also use the framework to make assisted decision in either Business Planning or operation. Businesses can understand more about the neighborhood as the target market and optimize their resources and business offering.\n"
   ]
  },
  {
   "cell_type": "markdown",
   "metadata": {},
   "source": [
    "# 1.0 Introduction\n",
    "##  1.1 Background"
   ]
  },
  {
   "cell_type": "markdown",
   "metadata": {},
   "source": [
    "<details>\n",
    "  <summary> Click Here to Expand  ..</summary>    \n",
    "Future governance of city infrastructure and it’s community/neighborhood demands for structured approach to assist in decision making. As such, the ability to measure how a city or community is progressing as compared to others will be handful. Managing cities and their community are complex job and thus requires integrated approach that measures various aspects. On the other hand, with the advent of digitalization, infrastructure operation and citizen activities can now generate more data in real time that can be useful, which can contribute towards new insights and knowledge.\n",
    "\n",
    "Today, Citizen’s awareness are increasing more than ever and city governance are expected to be more transparent especially in the matter involving public interest. As such any analysis and measurement of city health posture will be useful. In the lights of outbreak such as COVID-19 for example, information are sought  (by the public) at a rate higher than ever as people need to know how their city/neighborhood is coping with the situation. This project aims to conduct a comparative study on neighborhoods within a selected city (New York) based on integrated location data and demography.  While doing so, we believed that analytical framework  developed for this study would be applicable to other cities or further developed into a proper data product.\n",
    "    \n",
    "</details>"
   ]
  },
  {
   "cell_type": "markdown",
   "metadata": {},
   "source": [
    "## 1.2 Statement of Problems"
   ]
  },
  {
   "cell_type": "markdown",
   "metadata": {},
   "source": [
    "<details>\n",
    "  <summary> Click Here to Expand  ..</summary>  \n",
    "    \n",
    "Understanding analyzing location and or spatial data are key to urban planning and to address many different problem within community and neighborhood. The perspective of any issues on the hand are based on unique stakeholders’ interest. Here the stakeholder can either be the institution (the government), the citizen (public), or businesses. \n",
    "\n",
    " A city governors might want an overall view of all neighborhood to strategically plan any future development or keeping safe and vibrant environment. As a citizen, the concern is over information that is of public interest such as education, economic activity, property investment etc. Businesses are more concerned over making investment, increase productivity, generating revenue and keeping tab on the market segments and competition. \n",
    "    \n",
    "The overall posture or profiling metric for city and its neighborhood is lacking and often measured in silo, prompting for the needs of structured analysis, tools or framework.\n"
   ]
  },
  {
   "cell_type": "markdown",
   "metadata": {},
   "source": [
    "### 1.2.1 Research Questions\n",
    "\n",
    "<details>\n",
    "  <summary> Click Here to Expand  ..</summary>\n",
    "    \n",
    "•\tCan we profile a city or neighborhood based on set of preferred or personalized criteria? Ie based on different stakeholders interest?\n",
    "\n",
    "•\tCan we establish a metric or structured analytic framework that will allow us to measure current state vs future state of a city (or against other neighborhood)?  \n",
    "\n",
    "•\tCan we analyze (using the framework), city infrastructure readiness taking into account various aspect needs (ie health, education) and demographic study?\n"
   ]
  },
  {
   "cell_type": "markdown",
   "metadata": {},
   "source": [
    "### 1.2.2 The Solution \n",
    "<details>\n",
    "  <summary> Click Here to Expand  ..</summary>\n",
    "    \n",
    "•\tA metric or scheme to measure and profiling a neighborhood would be useful for stakeholders. The measurement will help establishing current state, identify gap and compared with other neighborhood. \n",
    "\n",
    "•\tThe metric is aimed to be comprehensive by looking into multiple integrated criteria. As a very basic requirement, it should measure readiness of relevant infrastructure that reflects the needs of citizen including economy, health, education, social/recreation as well as other demographic profile.\n",
    "\n",
    "•\tOther than report, the outcome can be in the form of live dashboard or tools specializing in performing exploratory or comparative analysis between different city based on integrated and customized metric..\n"
   ]
  },
  {
   "cell_type": "markdown",
   "metadata": {},
   "source": [
    "### 1.2.3 Who Will Benefit\n",
    "<details>\n",
    "  <summary> Click Here to Expand  ..</summary>\n",
    "    \n",
    "> <h4>i) City managers, governors or stakeholders</h4>Authorities may use the framework to start profiling their cities and neighborhood as part their planning exercise. They can explore to build a more sustainable city dashboard for their own use or published for public engagement (open data platform)\n",
    "\n",
    "> <h4>ii) Citizen</h4> The public or tax payers are expecting more transparent government and information that involve public interest. If used for public consumption, it can help city to increase citizen engagement and participation in city management which promote transparency in governance.\n",
    "\n",
    "> <h4>iii) Business Users</h4> Businesses can also use the framework to make assisted decision in either Business Planning or operation. Businesses can understand more about the neighborhood such as the target market and optimize their resources and business offering accordingly.\n"
   ]
  },
  {
   "cell_type": "markdown",
   "metadata": {},
   "source": [
    "### 1.2.4 Objective \n",
    "<details>\n",
    "  <summary> Click Here to Expand  ..</summary>\n",
    "    \n",
    "### In This project, we aim to a achieve the Main Objectives as follow:\n",
    "\n",
    "> <h4>1. To Perform a Comparative Analysis</h4> between neighborhood within a City (ie New York , Toronto) on integrated aspect of criteria including healthcare, education, economic, and social\n",
    "> <h4>2. To Propose Integrated Metric or City measurement framework</h4> that match user input profile with the city based on personalized preference (ie based on recommender system approach)\n",
    "\n",
    "    \n",
    "_Note: The analysis and metric proposed are based on infrastructure readiness and demographic information which might not be sufficient to address complexity of the community being measured. The main ideas of this project is to establish a basic metric and framework that measure integrated aspect of city/neighborhood._\n"
   ]
  },
  {
   "cell_type": "markdown",
   "metadata": {},
   "source": [
    "# 2.0 Data\n",
    ">Data is the most important aspect of this project. However, before any implementation or commencement of study, a good understanding of business case is crucial to ensure we will engage and acquire the right set of data and information. This is to eliminate ‘garbage in garbage out’ issue at the later stage. While there are many methods of measuring city performance and benchmarking existed, our approach aims to strike balance in the way we evaluate our city/neighborhood. As such we believed that the life elements such as health, social, economy and some demographic aspect would be worth experimenting or studied, especially when comparing places for living or work. Driven by these different needs we can then decide on the data that is needed, their sources as well as analytical and presentation approaches.\n",
    "\n",
    "## 2.1 Data Requirement & Hypothesis\n",
    "Data Selection is made based on our Hypothesis of the following critical parameters to be measured grouped by 5 key pillars (we can call this with acronym HEEDS as follows : \n",
    "\n",
    "|Pillar |\tIndicator\t| Data Required\n",
    "|:---|:---|:---\n",
    "|[H]ealth |\tHealth Infrastructure |\tPOI {Hospital/Clinic) Count/population\n",
    "|[E]conomy |Business Establishment | POI Business Count (Categories), POI/CENCUS Property Price/Type\n",
    "|[E]ducation\t| Education Infrastructure |\tPOI {School/University) per population ; CENCUS Education level\n",
    "|[D]emography|\tPopulation, Age, Income Distribution |\tCENCUS Age/Gender (mean), Income Distribution, Population Size, \n",
    "|[S]ocial/Recreation |\tGreen infrastructure | Recreation POI\tPOI Count Green Infrastructure/Coverage, USERS Check in, Tips, \n",
    "\n"
   ]
  },
  {
   "cell_type": "markdown",
   "metadata": {},
   "source": [
    "## 2.2 Data Sources and Description\n",
    "### Based on the table above we have then identify the Data Sources as follows \n",
    "\n",
    "> <h4>FORSQUARE</h4>  is a location data providers that have served business and developers that require location information for their application. Location Data that we needs and stated in the table above such as POI, Categories, Users (check in, tips) are data endpoints that are accessible as free and limited API calls.  (Referrence : www.forsquare.com)\n",
    "\n",
    "> <h4>CENSUS DATA </h4>: The other set of data such as Demographic Data (Age, Gender, Population, Income, Education Level can be extracted from US Census data that can be obtained openly from cencus.gov website. Due to the static nature of the information we can use the recent report or cencus data downloadable from the official website (www.census.gov)\n"
   ]
  },
  {
   "cell_type": "markdown",
   "metadata": {},
   "source": [
    "## 2.3 Scope\n",
    "* For the data analysis, the scope of the study will cover Neighborhood within New York City.\n",
    "* Recommender Systems and Scoring will take user input as initial user profile (PROFILE). Neighborhoods understudied will be compared based on HEEDS indicators above and assigned score based on their relative ranking compared to the other neighborhood (Normalized) (we can call it HEEDS score). PROFILE and HEEDS score will be multiplied together to get the FINAL SCORE for the ‘Battle of Neighborhood study” \n"
   ]
  },
  {
   "cell_type": "markdown",
   "metadata": {},
   "source": [
    "# 3.0 Methodology\n",
    "As stated in our objectives, our deliverables will include comparative analysis between neighborhood, employing various statistical and machine learning approaches which will be reported using relevant visualization approaches. Basic data preprocessing and analysis (such as neighborhood ranking) will be the dominant part of this report with some application of basic regression, prediction and recommender systems included.\n",
    "\n",
    "In general, our approach is aspired by several other established methodology. One of the example is for predicting neighborhood (Target) based on independent variables such as income range, age, gender or education level\n",
    "Another example of deliverable is an adoption of Recommender Systems (in particular the content based approach) which has been widely used in e-commerce and entertainment services such as Youtube and Netfix. Similar scheme of recommender system will be applied (adjusted) to measure neighborhood scoring based on key parameters have proposed (similar to genre)\n",
    "While the scope of the predictor may not be as comprehensive (due to scope and timeline), our novelty relies on the selection of parameters used for the scoring and visualization These parameters are unique aspects of our decision making systems. \n",
    "\n",
    "In general the framework will be implemented based on the following flow:\n",
    "1.\tIdentify key features representing 5 parameters {Health, Social/Recreational, , Economy, Education and Population Demographic}. For the recommender implementation, these feature are comparable to the genre in Netflix recommender systems.\n",
    "2.\tIdentify relevant data and sources. The data will be Extracted, Transferred and preprocessed accordingly.\n",
    "3.\tBasic analysis will be performed on Data including ranking table and chart based on pillar (comparative study on multiple neighborhood), development of neighborhood profile, the weighted table and scoring for recommender system.\n",
    "4.\tThe result will be presented using appropriate techniques including map, radar, barchart and word clouds\n",
    "5.\tWe will discuss our finding based on the recommender scoring and other comparative analysis \n"
   ]
  },
  {
   "cell_type": "markdown",
   "metadata": {},
   "source": [
    "### Data Preprocessing\n",
    "\n",
    "The following table outlines the indicator for respective pillar and respective data endpoint needed (for example particular point of interest data to be retrieved) \n",
    "\n",
    "Pillar\t| Indicator |\tData Required\n",
    ":---|:---|:---\n",
    "[H]ealth |\tHealth Infrastructure |\tPOI {Hospital/Clinic) Count/population\n",
    "[E]conomy|Business Establishment |\tPOI Business Count (Categories), POI/CENCUS Property Price/Type\n",
    "[E]ducation\t| Education Infrastructure |\tPOI {School/University) per population CENSUS Education level\n",
    "[D]emography |\tPopulation, Age, Income Distribution |\tCENCUS Age/Gender (mean), CENCUS Income Distribution, CENSUS Population Size, \n",
    "[S]ocial/Recreation |\tGreen infrastructure | Recreation POI\tPOI Count Green Infrastructure/Coverage, USERS Check in, Tips, \n",
    "\n"
   ]
  },
  {
   "cell_type": "markdown",
   "metadata": {},
   "source": [
    "### Proposed Method For Comparative Analysis\n",
    "##### The following table maps the indicator and data to be analyzed, It specify the proposed data presentation or output for each pillar as well as for integrated metric (overall result)  \n",
    "Pillar|\tIndicator |\tData Analysis |\tResult Presentation  |\n",
    ":---|:---|:---|:---\n",
    "[H]ealth |\tHealth Infrastructure |\tPOI {Hospital/Clinic) Count/population | Ranking Table & Bar Chart  \n",
    "[E]conomy |\tBusiness Establishment | POI Business Count (Categories), POI/CENSUS Property Price/Type |\tFolium Map (POI Distribution)-Categories-Property Price\t\n",
    "[E]ducation |\tEducation Infrastructure | POI {School/University) per population CENSUS Education level-Bar chart Education level | Ranking/count -Map with labels\t\n",
    "[D]emography\t| Population, Age, Income Distribution \t| CENSUS Age/Gender (mean), CENSUS Income Distribution, CENSUS Population Size, |\t-Folium Map with label, Demographic Choropleth Demographic Distribution-Bar Chart\t\n",
    "[S]ocial/Recreation |\tGreen infrastructure | Recreation POI\tPOI Count Green Infrastructure/Coverage, USERS Check in, Tips Folium Map (Green infra Distribution)\t\n",
    "\n",
    "#### Overall Result : \n",
    "Radar /Spider HEEDS Score based on Neighborhood,Regression/Predictor (Age/Gender/Income) vs Neighborhood"
   ]
  },
  {
   "cell_type": "markdown",
   "metadata": {},
   "source": [
    "### Proposed Methods for calculating Score\n",
    "The following table outlines the indicator for respective pillar and HOW recommender systems generally work. By. Combining User input (user specify preference based on pillar) with indicator weightage , the final overall score (HEEDS score) and radar chart can be produced\n",
    "\n",
    "Pillar |\tIndicator |\tUser Input Profile (Rank by Users) (A)\t| Indicator Weightage Score (Recommended Features) {B)\t \n",
    ":---|:---|:---|:---\n",
    "[H]ealth |\tHealth Infrastructure |\tRank {int 1-5 } , Normalized |\tPOI_Count per population size(Normalized Max-Min)\t\n",
    "[E]conomy |\tBusiness Establishment\t| Rank {int 1-5 }Normalized |\tPOI_Count (Normalized Max-Min)\t\n",
    "[E]ducation |\tEducation Infrastructure |\tRank {int 1-5 }Normalized |\tPOI_Count per population size (Normalized Max-Min)\t\n",
    "[D]emography |\tPopulation, Age, Income Distribution | \tRank {int 1-5 } Normalized |\tPopulation_Size per squarefeet(Normalized Max-Min)\t\n",
    "[S]ocial/Recreation |\tGreen infrastructure  Recreation POI\t| Rank {int 1-5 }Normalized |\tPOI_Count per population size(Normalized Max-Min)\t\n",
    "\n",
    "#### HEEDS SCORE = SUM (A x B)"
   ]
  },
  {
   "cell_type": "code",
   "execution_count": null,
   "metadata": {},
   "outputs": [],
   "source": []
  }
 ],
 "metadata": {
  "kernelspec": {
   "display_name": "Python 3",
   "language": "python",
   "name": "python3"
  },
  "language_info": {
   "codemirror_mode": {
    "name": "ipython",
    "version": 3
   },
   "file_extension": ".py",
   "mimetype": "text/x-python",
   "name": "python",
   "nbconvert_exporter": "python",
   "pygments_lexer": "ipython3",
   "version": "3.7.6"
  }
 },
 "nbformat": 4,
 "nbformat_minor": 4
}
